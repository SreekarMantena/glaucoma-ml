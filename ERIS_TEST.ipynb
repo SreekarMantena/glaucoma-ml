{
  "nbformat": 4,
  "nbformat_minor": 0,
  "metadata": {
    "colab": {
      "name": "ERIS_TEST.ipynb",
      "provenance": [],
      "collapsed_sections": []
    },
    "kernelspec": {
      "name": "python3",
      "display_name": "Python 3"
    }
  },
  "cells": [
    {
      "cell_type": "code",
      "metadata": {
        "id": "EZNcI-vNyvl4",
        "colab_type": "code",
        "colab": {
          "base_uri": "https://localhost:8080/",
          "height": 35
        },
        "outputId": "534ba76c-6736-4470-8356-e2510c7130c9"
      },
      "source": [
        "import tensorflow as tf\n",
        "\n",
        "# Load the TensorBoard notebook extension (optional)\n",
        "%load_ext tensorboard\n",
        "\n",
        "tf.random.set_seed(42)\n",
        "tf.__version__"
      ],
      "execution_count": null,
      "outputs": [
        {
          "output_type": "execute_result",
          "data": {
            "application/vnd.google.colaboratory.intrinsic+json": {
              "type": "string"
            },
            "text/plain": [
              "'2.2.0'"
            ]
          },
          "metadata": {
            "tags": []
          },
          "execution_count": 1
        }
      ]
    },
    {
      "cell_type": "code",
      "metadata": {
        "id": "HRD7zNb_ywql",
        "colab_type": "code",
        "colab": {}
      },
      "source": [
        "print('SUCCESS TESNSOR')\n",
        "\n",
        "INPUT_SHAPE = (50,50, 3)\n",
        "vgg = tf.keras.applications.vgg19.VGG19(include_top=False, weights='imagenet', input_shape=INPUT_SHAPE)\n",
        "\n",
        "vgg.trainable = False\n",
        "# Freeze the layers\n",
        "for layer in vgg.layers:\n",
        "    layer.trainable = False\n",
        "\n",
        "print('VGG SUCCESS')"
      ],
      "execution_count": null,
      "outputs": []
    }
  ]
}